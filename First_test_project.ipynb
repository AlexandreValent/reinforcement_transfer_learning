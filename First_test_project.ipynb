{
 "cells": [
  {
   "cell_type": "code",
   "execution_count": 10,
   "id": "106de3dd",
   "metadata": {},
   "outputs": [],
   "source": [
    "import gym"
   ]
  },
  {
   "cell_type": "code",
   "execution_count": 34,
   "id": "ca3ecd84",
   "metadata": {},
   "outputs": [],
   "source": [
    "import pandas as pd"
   ]
  },
  {
   "cell_type": "code",
   "execution_count": 11,
   "id": "1f903e0f",
   "metadata": {},
   "outputs": [],
   "source": [
    "import time\n",
    "import matplotlib.pyplot as plt"
   ]
  },
  {
   "cell_type": "code",
   "execution_count": 15,
   "id": "7a64c6a9",
   "metadata": {},
   "outputs": [],
   "source": [
    "env = gym.make('LunarLander-v2', render_mode=\"human\" )"
   ]
  },
  {
   "cell_type": "code",
   "execution_count": null,
   "id": "1acde21d",
   "metadata": {},
   "outputs": [],
   "source": []
  },
  {
   "cell_type": "code",
   "execution_count": 38,
   "id": "3599f669",
   "metadata": {},
   "outputs": [
    {
     "name": "stdout",
     "output_type": "stream",
     "text": [
      "Temps d'execution 121 étapes\n",
      "Le reward total est -383.0871258908462\n",
      "Temps d'execution 121 étapes\n",
      "Le reward total est -94.38120957673065\n",
      "Temps d'execution 121 étapes\n",
      "Le reward total est -100.69237613062451\n"
     ]
    }
   ],
   "source": [
    "episodes = 3\n",
    "\n",
    "data = []\n",
    "\n",
    "for episode in range(1,episodes+1):\n",
    "    state=env.reset()\n",
    "    done = False\n",
    "    score = 0 \n",
    "    frame = 0\n",
    "    X = []\n",
    "    y = []\n",
    "    \n",
    "    \n",
    "    \n",
    "    \n",
    "    while not done :\n",
    "        frame += 1\n",
    "        env.render()\n",
    "        action = env.action_space.sample()\n",
    "        n_state , reward , done , info_1 , info_2 = env.step(action)\n",
    "        score += reward\n",
    "        X.append(n_state[4])\n",
    "        y.append(n_state[3])\n",
    "        \n",
    "    print(\"Temps d'execution\" , timer , \"étapes\")\n",
    "    print(\"Le reward total est\" , score)\n",
    "    \n",
    "    \n",
    "    numero_partie = episode\n",
    "    game_over = env.game_over\n",
    "    time = frame / 50 #Comment récupérer la variable\n",
    "    score_reward = score\n",
    "    agent_type = 'agt'\n",
    "        \n",
    "        \n",
    "    data_list = [agent_type,numero_partie,game_over,time,score_reward]\n",
    "    data.append(data_list)\n",
    "    df = pd.DataFrame(data,columns=['Agent','Numero de la partie','Game Over','Time','Score'])"
   ]
  },
  {
   "cell_type": "code",
   "execution_count": 39,
   "id": "fe27b3b0",
   "metadata": {},
   "outputs": [
    {
     "data": {
      "text/html": [
       "<div>\n",
       "<style scoped>\n",
       "    .dataframe tbody tr th:only-of-type {\n",
       "        vertical-align: middle;\n",
       "    }\n",
       "\n",
       "    .dataframe tbody tr th {\n",
       "        vertical-align: top;\n",
       "    }\n",
       "\n",
       "    .dataframe thead th {\n",
       "        text-align: right;\n",
       "    }\n",
       "</style>\n",
       "<table border=\"1\" class=\"dataframe\">\n",
       "  <thead>\n",
       "    <tr style=\"text-align: right;\">\n",
       "      <th></th>\n",
       "      <th>Agent</th>\n",
       "      <th>Numero de la partie</th>\n",
       "      <th>Game Over</th>\n",
       "      <th>Time</th>\n",
       "      <th>Score</th>\n",
       "    </tr>\n",
       "  </thead>\n",
       "  <tbody>\n",
       "    <tr>\n",
       "      <th>0</th>\n",
       "      <td>agt</td>\n",
       "      <td>1</td>\n",
       "      <td>False</td>\n",
       "      <td>2.38</td>\n",
       "      <td>-383.087126</td>\n",
       "    </tr>\n",
       "    <tr>\n",
       "      <th>1</th>\n",
       "      <td>agt</td>\n",
       "      <td>2</td>\n",
       "      <td>True</td>\n",
       "      <td>2.42</td>\n",
       "      <td>-94.381210</td>\n",
       "    </tr>\n",
       "    <tr>\n",
       "      <th>2</th>\n",
       "      <td>agt</td>\n",
       "      <td>3</td>\n",
       "      <td>True</td>\n",
       "      <td>1.22</td>\n",
       "      <td>-100.692376</td>\n",
       "    </tr>\n",
       "  </tbody>\n",
       "</table>\n",
       "</div>"
      ],
      "text/plain": [
       "  Agent  Numero de la partie  Game Over  Time       Score\n",
       "0   agt                    1      False  2.38 -383.087126\n",
       "1   agt                    2       True  2.42  -94.381210\n",
       "2   agt                    3       True  1.22 -100.692376"
      ]
     },
     "execution_count": 39,
     "metadata": {},
     "output_type": "execute_result"
    }
   ],
   "source": [
    "df"
   ]
  },
  {
   "cell_type": "code",
   "execution_count": 35,
   "id": "9cb486b7",
   "metadata": {},
   "outputs": [
    {
     "data": {
      "text/plain": [
       "False"
      ]
     },
     "execution_count": 35,
     "metadata": {},
     "output_type": "execute_result"
    }
   ],
   "source": [
    "env.game_over"
   ]
  },
  {
   "cell_type": "code",
   "execution_count": 5,
   "id": "d4e51b76",
   "metadata": {},
   "outputs": [],
   "source": [
    "import pickle "
   ]
  },
  {
   "cell_type": "code",
   "execution_count": 57,
   "id": "67d857f3",
   "metadata": {},
   "outputs": [],
   "source": [
    "fichier = \"data_saved.pickle\""
   ]
  },
  {
   "cell_type": "code",
   "execution_count": 58,
   "id": "79d684eb",
   "metadata": {},
   "outputs": [],
   "source": [
    "def run_env(env, agt, episodes):\n",
    "    \"\"\"\n",
    "    Run a given environment with a given agent.\n",
    "    \"\"\"\n",
    "\n",
    "    #obs_old, info = env.reset(seed=CFG.rnd_seed)\n",
    "    #obs_old, info = env.reset()\n",
    "\n",
    "    \n",
    "    #Ensemble des actions possibles\n",
    "    #act_space = env.action_space\n",
    "    \n",
    "    \n",
    "    #Ouverture du fichier pour écrire sur un fichier pickle \n",
    "    fichier_pickle = open(fichier,'wb')\n",
    "\n",
    "    \n",
    "    \n",
    "    #Initialisation du Df\n",
    "    data = []\n",
    "    \n",
    "    \n",
    "    for episode in range(1,episodes+1):\n",
    "        \n",
    "        state = env.reset()\n",
    "    \n",
    "        #Initialisation des variables\n",
    "        frame = 0\n",
    "        score = 0\n",
    "        done = False\n",
    "        \n",
    "        while not done : \n",
    "            frame += 1\n",
    "\n",
    "            #Affichage\n",
    "            env.render()\n",
    "\n",
    "            #On décide de l'action aléatoire\n",
    "            action = env.action_space.sample()\n",
    "\n",
    "            #On applique l'action\n",
    "            obs_new, reward, done, info_1 , info_2 = env.step(action)\n",
    "\n",
    "            # We perform a learning step -> A CODER\n",
    "            #agt.set(obs_old, act, reward, obs_new)\n",
    "\n",
    "            score += reward\n",
    "\n",
    "        #Update latest observation\n",
    "        #obs_old = obs_new\n",
    "            \n",
    "        \n",
    "    #Variables à récupérer :\n",
    "        #x_over = abs(state[0]) >= 1.0\n",
    "        #y_over = abs(state[1]) >= 1.0\n",
    "        #Lander_awake = self.lander.awake\n",
    "        #game_state = terminated\n",
    "        \n",
    "        numero_partie = episode\n",
    "        game_over = env.game_over\n",
    "        time = frame / 50 #Comment récupérer la variable\n",
    "        score_reward = score\n",
    "        agent_type = agt\n",
    "        \n",
    "        \n",
    "        data_list = [agent_type,numero_partie,game_over,time,score_reward]\n",
    "        data.append(data_list)\n",
    "        pickle.dump(data , fichier_pickle)\n",
    "    \n",
    "    \n",
    "    \n",
    "    #Creation du data frame\n",
    "    df = pd.DataFrame(data,columns=['Agent','Numero de la partie','Game Over','Time','Score'])\n",
    "    \n",
    "    fichier_pickle.close\n",
    "        \n",
    "\n",
    "    #env.close()\n",
    "    return df , fichier_pickle"
   ]
  },
  {
   "cell_type": "code",
   "execution_count": 59,
   "id": "a6362bcc",
   "metadata": {},
   "outputs": [
    {
     "data": {
      "text/plain": [
       "(   Agent  Numero de la partie  Game Over  Time       Score\n",
       " 0      3                    1       True  1.86 -102.065967\n",
       " 1      3                    2       True  1.54 -172.216968\n",
       " 2      3                    3       True  1.32  -63.037109,\n",
       " <_io.BufferedWriter name='data_saved.pickle'>)"
      ]
     },
     "execution_count": 59,
     "metadata": {},
     "output_type": "execute_result"
    }
   ],
   "source": [
    "run_env(env, 3, 3)"
   ]
  },
  {
   "cell_type": "code",
   "execution_count": 61,
   "id": "240117eb",
   "metadata": {},
   "outputs": [
    {
     "ename": "UnsupportedOperation",
     "evalue": "read",
     "output_type": "error",
     "traceback": [
      "\u001b[0;31m---------------------------------------------------------------------------\u001b[0m",
      "\u001b[0;31mUnsupportedOperation\u001b[0m                      Traceback (most recent call last)",
      "Cell \u001b[0;32mIn[61], line 1\u001b[0m\n\u001b[0;32m----> 1\u001b[0m \u001b[43mfichier_pickle\u001b[49m\u001b[38;5;241;43m.\u001b[39;49m\u001b[43mread\u001b[49m\u001b[43m(\u001b[49m\u001b[43m)\u001b[49m\n",
      "\u001b[0;31mUnsupportedOperation\u001b[0m: read"
     ]
    }
   ],
   "source": [
    "fichier_pickle = "
   ]
  },
  {
   "cell_type": "code",
   "execution_count": null,
   "id": "c33d1405",
   "metadata": {},
   "outputs": [],
   "source": [
    "def chronometre():\n",
    "    start_time = time.time()  \n",
    "    \n",
    "    for i in range(1000000):\n",
    "        \n",
    "        end_time = time.time() \n",
    "        execution_time = end_time - start_time  \n",
    "    \n",
    "    print(\"Temps d'exécution : \", execution_time, \" secondes\")"
   ]
  },
  {
   "cell_type": "code",
   "execution_count": 20,
   "id": "cd876a0c",
   "metadata": {},
   "outputs": [
    {
     "data": {
      "text/plain": [
       "Text(0.5, 0, 'X')"
      ]
     },
     "execution_count": 20,
     "metadata": {},
     "output_type": "execute_result"
    },
    {
     "data": {
      "image/png": "[encoded data removed]",
      "text/plain": [
       "<Figure size 640x480 with 1 Axes>"
      ]
     },
     "metadata": {},
     "output_type": "display_data"
    }
   ],
   "source": [
    "plt.scatter(X,y)\n",
    "plt.xlabel(\"X\")"
   ]
  },
  {
   "cell_type": "code",
   "execution_count": null,
   "id": "82371723",
   "metadata": {},
   "outputs": [],
   "source": [
    "## Pickle -> old / reward /  / next"
   ]
  }
 ],
 "metadata": {
  "kernelspec": {
   "display_name": "Python 3 (ipykernel)",
   "language": "python",
   "name": "python3"
  },
  "language_info": {
   "codemirror_mode": {
    "name": "ipython",
    "version": 3
   },
   "file_extension": ".py",
   "mimetype": "text/x-python",
   "name": "python",
   "nbconvert_exporter": "python",
   "pygments_lexer": "ipython3",
   "version": "3.10.6"
  },
  "toc": {
   "base_numbering": 1,
   "nav_menu": {},
   "number_sections": true,
   "sideBar": true,
   "skip_h1_title": false,
   "title_cell": "Table of Contents",
   "title_sidebar": "Contents",
   "toc_cell": false,
   "toc_position": {},
   "toc_section_display": true,
   "toc_window_display": false
  }
 },
 "nbformat": 4,
 "nbformat_minor": 5
}
